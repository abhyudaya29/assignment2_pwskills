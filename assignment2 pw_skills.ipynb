{
 "cells": [
  {
   "cell_type": "code",
   "execution_count": 1,
   "id": "d33d49a1-98c5-48d2-bc2d-0d34dcf4ba6a",
   "metadata": {},
   "outputs": [
    {
     "name": "stdin",
     "output_type": "stream",
     "text": [
      "enter the marks 98\n"
     ]
    },
    {
     "name": "stdout",
     "output_type": "stream",
     "text": [
      "Grade : A\n"
     ]
    }
   ],
   "source": [
    "marks=(int(input(\"enter the marks\")))\n",
    "if marks>90:\n",
    "    print(\"Grade : A\")\n",
    "elif marks>80 and marks<=90:\n",
    "    print(\"Grade: B\")\n",
    "elif marks >=60 and marks<=80:\n",
    "    print(\"Grade : C\")\n",
    "else:\n",
    "    print(\"Grade: D\")"
   ]
  },
  {
   "cell_type": "code",
   "execution_count": 2,
   "id": "100ca22e-4480-4666-9e92-526c7bf4cdcc",
   "metadata": {},
   "outputs": [
    {
     "name": "stdin",
     "output_type": "stream",
     "text": [
      "enter the Cost price:  30000\n"
     ]
    },
    {
     "name": "stdout",
     "output_type": "stream",
     "text": [
      "Tax: 5%\n"
     ]
    }
   ],
   "source": [
    "cost_Price=int(input(\"enter the Cost price: \"))\n",
    "if cost_Price>100000:\n",
    "    print(\"Tax : 15%\")\n",
    "elif cost_Price>50000 and cost_Price<=100000:\n",
    "    print(\"Tax: 10%\")\n",
    "else:\n",
    "    print(\"Tax: 5%\")"
   ]
  },
  {
   "cell_type": "code",
   "execution_count": 3,
   "id": "b1163a03-ad8b-4492-bd61-091a43b85fd1",
   "metadata": {},
   "outputs": [
    {
     "name": "stdin",
     "output_type": "stream",
     "text": [
      "enter the city Delhi\n"
     ]
    },
    {
     "name": "stdout",
     "output_type": "stream",
     "text": [
      "Monument: Red Fort\n"
     ]
    }
   ],
   "source": [
    "city= input(\"enter the city\")\n",
    "if city==\"Delhi\":\n",
    "    print(\"Monument: Red Fort\")\n",
    "elif city==\"Agra\":\n",
    "    print(\"Monument: Taj Mahal\")\n",
    "elif city==\"Jaipur\":\n",
    "    print(\"Monument: Jai Mahal\")\n",
    "else:\n",
    "    print(\"please enter the avaliable city\")"
   ]
  },
  {
   "cell_type": "code",
   "execution_count": 2,
   "id": "b6e2781f-4e4b-4bd7-a4ca-829e924cad96",
   "metadata": {},
   "outputs": [
    {
     "name": "stdin",
     "output_type": "stream",
     "text": [
      "enter the number 5\n"
     ]
    },
    {
     "name": "stdout",
     "output_type": "stream",
     "text": [
      "1\n"
     ]
    }
   ],
   "source": [
    "num=int(input(\"enter the number\"))\n",
    "if num<=10:\n",
    "    print(num//3)\n",
    "else:\n",
    "    print(\"num is greater than 10\")"
   ]
  },
  {
   "cell_type": "markdown",
   "id": "8923aafe-daad-4444-b5c2-38c78c8c3c9f",
   "metadata": {},
   "source": [
    " While loop executed till the condition is true , it is generally used to print the content several times till the conditions is true"
   ]
  },
  {
   "cell_type": "code",
   "execution_count": 3,
   "id": "007f6b48-a396-4a97-8eca-5a655efac432",
   "metadata": {},
   "outputs": [
    {
     "name": "stdin",
     "output_type": "stream",
     "text": [
      "Enter rows \n",
      " 5\n"
     ]
    },
    {
     "name": "stdout",
     "output_type": "stream",
     "text": [
      "* * * * * \n",
      "* * * * \n",
      "* * * \n",
      "* * \n",
      "* \n"
     ]
    }
   ],
   "source": [
    "n = int(input('Enter rows \\n'))\n",
    " \n",
    "i = 1\n",
    "while i <= n :\n",
    "    j = n\n",
    "    while j >= i:\n",
    "        print(\"*\", end = \" \")\n",
    "        j -= 1\n",
    "    print()\n",
    "    i += 1"
   ]
  },
  {
   "cell_type": "code",
   "execution_count": 6,
   "id": "fd506af4-527a-4771-893e-b9c633618275",
   "metadata": {},
   "outputs": [
    {
     "name": "stdin",
     "output_type": "stream",
     "text": [
      "Enter  rows   4\n"
     ]
    },
    {
     "name": "stdout",
     "output_type": "stream",
     "text": [
      "dev* \n",
      "dev* dev* \n",
      "dev* dev* dev* \n",
      "dev* dev* dev* dev* \n"
     ]
    }
   ],
   "source": [
    "n = int(input('Enter  rows  '))\n",
    " \n",
    "i = 1\n",
    "while i <= n :\n",
    "    j = 1\n",
    "    while j <= i:\n",
    "        print(\"dev*\", end = \" \")\n",
    "        j += 1\n",
    "    print()\n",
    "    i += 1"
   ]
  },
  {
   "cell_type": "code",
   "execution_count": 1,
   "id": "27d474df-bdf3-4529-a2c0-dd360d8f33e5",
   "metadata": {},
   "outputs": [
    {
     "name": "stdout",
     "output_type": "stream",
     "text": [
      "10\n",
      "9\n",
      "8\n",
      "7\n",
      "6\n",
      "5\n",
      "4\n",
      "3\n",
      "2\n",
      "1\n"
     ]
    }
   ],
   "source": [
    "i=10\n",
    "while i>0:\n",
    "    print(i)\n",
    "    i=i-1\n",
    "\n"
   ]
  },
  {
   "cell_type": "code",
   "execution_count": null,
   "id": "88cd9ec5-5b39-4812-a381-ceb646cfd081",
   "metadata": {},
   "outputs": [],
   "source": []
  }
 ],
 "metadata": {
  "kernelspec": {
   "display_name": "Python 3 (ipykernel)",
   "language": "python",
   "name": "python3"
  },
  "language_info": {
   "codemirror_mode": {
    "name": "ipython",
    "version": 3
   },
   "file_extension": ".py",
   "mimetype": "text/x-python",
   "name": "python",
   "nbconvert_exporter": "python",
   "pygments_lexer": "ipython3",
   "version": "3.10.8"
  }
 },
 "nbformat": 4,
 "nbformat_minor": 5
}
